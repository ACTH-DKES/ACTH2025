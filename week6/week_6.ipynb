{
  "cells": [
    {
      "cell_type": "markdown",
      "metadata": {
        "id": "view-in-github",
        "colab_type": "text"
      },
      "source": [
        "<a href=\"https://colab.research.google.com/github/ACTH-DKES/ACTH2025/blob/main/week6/week_6.ipynb\" target=\"_parent\"><img src=\"https://colab.research.google.com/assets/colab-badge.svg\" alt=\"Open In Colab\"/></a>"
      ]
    },
    {
      "cell_type": "markdown",
      "id": "6584d4c0",
      "metadata": {
        "id": "6584d4c0"
      },
      "source": [
        "# Data Visualization Tutorial - Cultural Heritage\n",
        "\n",
        "---\n",
        "\n",
        "Data visualization helps transform raw data into visuals that highlight patterns, comparisons, and relationships. A well-constructed visualization should:\n",
        "\n",
        "- **Communicate** clearly a key insight\n",
        "- **Add value** beyond just displaying data\n",
        "- **Be accessible**\n",
        "- **Remain readable** and interpretable"
      ]
    },
    {
      "cell_type": "markdown",
      "id": "de23fac5",
      "metadata": {
        "id": "de23fac5"
      },
      "source": [
        "## Section 1: let's generate a synthetic dataset\n",
        "\n",
        "I don't want to give you too many files.\n",
        "\n",
        "We generate a fake dataset of archaeological finds with variables like site, period, material, and depth. We'll use the following libraries:\n",
        "\n",
        "- `pandas`: to handle tabular data\n",
        "- `matplotlib.pyplot`: to create basic visualizations\n",
        "- `seaborn`: to create statistical visualizations"
      ]
    },
    {
      "cell_type": "code",
      "execution_count": null,
      "id": "52b23746",
      "metadata": {
        "id": "52b23746"
      },
      "outputs": [],
      "source": [
        "import pandas as pd\n",
        "import matplotlib.pyplot as plt\n",
        "import seaborn as sns\n",
        "import random\n",
        "import numpy as np\n",
        "\n",
        "# Dataset configuration\n",
        "num_entries = 120\n",
        "sites = ['Pompeii', 'Herculaneum', 'Ostia Antica', 'Delphi', 'Knossos']\n",
        "periods = ['Bronze Age', 'Iron Age', 'Classical', 'Hellenistic', 'Roman']\n",
        "artifact_types = ['Pottery', 'Coin', 'Sculpture', 'Inscription', 'Tool']\n",
        "materials = ['Clay', 'Bronze', 'Marble', 'Iron', 'Glass']\n",
        "conditions = ['Excellent', 'Good', 'Fair', 'Poor']\n",
        "years = list(range(1900, 2024))\n",
        "\n",
        "# Generate synthetic entries\n",
        "data = []\n",
        "for i in range(num_entries):\n",
        "    entry = {\n",
        "        \"Site\": random.choice(sites),\n",
        "        \"Period\": random.choice(periods),\n",
        "        \"ArtifactType\": random.choice(artifact_types),\n",
        "        \"Material\": random.choice(materials),\n",
        "        \"Condition\": random.choices(conditions, weights=[1, 2, 3, 2])[0],\n",
        "        \"DiscoveryYear\": random.choice(years),\n",
        "        \"DepthMeters\": round(random.uniform(0.3, 5.0), 2)\n",
        "    }\n",
        "    data.append(entry)\n",
        "\n",
        "# Convert list to pandas DataFrame\n",
        "df = pd.DataFrame(data)\n",
        "df.head()"
      ]
    },
    {
      "cell_type": "markdown",
      "id": "605403ea",
      "metadata": {
        "id": "605403ea"
      },
      "source": [
        "## Heatmap: Visualizing How Artifact Types Are Distributed Across Sites\n",
        "\n",
        "A **heatmap** is a grid where each cell is colored based on a numeric value. It’s especially good for showing:\n",
        "\n",
        "- How **frequently** something occurs\n",
        "- The **distribution** of values across two categories\n",
        "\n",
        "In this example, we use a heatmap to explore:\n",
        "- Which **artifact types** were found at which **archaeological sites**\n",
        "- How often each combination appears in the data\n",
        "\n",
        "---\n",
        "\n",
        "- `pandas.pivot(index=..., columns=..., values=...)`: reshapes the dataset so that rows become one category (e.g. Sites), columns another (e.g. ArtifactType), and the cell values a third (e.g. Count).\n",
        "- `seaborn.heatmap()`: draws a color-coded grid showing the relationship.\n",
        "- `annot=True`: prints the actual number in each cell.\n",
        "- `cmap=\"YlGnBu\"`: sets the color gradient from light (low values) to dark (high values).\n"
      ]
    },
    {
      "cell_type": "code",
      "execution_count": null,
      "id": "ceafa595",
      "metadata": {
        "id": "ceafa595"
      },
      "outputs": [],
      "source": [
        "# We already created 'df' at the beginning. We'll reuse it here.\n",
        "\n",
        "# Step 1: Count how many times each artifact type appears at each site\n",
        "heatmap_data = df.groupby(['Site', 'ArtifactType']).size().reset_index(name='Count')\n",
        "\n",
        "# Step 2: Reshape the data into a matrix format\n",
        "heatmap_matrix = heatmap_data.pivot(index='Site', columns='ArtifactType', values='Count')\n",
        "\n",
        "# Step 3: Plot the heatmap\n",
        "import seaborn as sns\n",
        "import matplotlib.pyplot as plt\n",
        "\n",
        "plt.figure(figsize=(8, 5))\n",
        "sns.heatmap(heatmap_matrix, annot=True, cmap='YlGnBu')\n",
        "plt.title('Frequency of Artifact Types by Site')\n",
        "plt.show()\n"
      ]
    },
    {
      "cell_type": "markdown",
      "id": "f7fe12c0",
      "metadata": {
        "id": "f7fe12c0"
      },
      "source": [
        "## Section 2: Count Plot of Artifact Types\n",
        "\n",
        "We use `seaborn.countplot()` to display the frequency of each artifact type. Before plotting, we use `plt.figure(figsize=(8, 5))` to define the figure size in inches (width x height)."
      ]
    },
    {
      "cell_type": "code",
      "execution_count": null,
      "id": "d6a703f0",
      "metadata": {
        "id": "d6a703f0"
      },
      "outputs": [],
      "source": [
        "plt.figure(figsize=(8, 5))  # Set figure size\n",
        "sns.countplot(data=df, x=\"ArtifactType\", order=df[\"ArtifactType\"].value_counts().index)  # Frequency plot\n",
        "plt.title(\"Frequency of Artifact Types\")  # Title\n",
        "plt.xticks(rotation=45)  # -->rotate x-axis labels for readability <-- important\n",
        "plt.tight_layout()  # adjust padding to fit everything\n",
        "plt.show()  # Render the plot in the jup beloww"
      ]
    },
    {
      "cell_type": "markdown",
      "id": "5f6d1c9c",
      "metadata": {
        "id": "5f6d1c9c"
      },
      "source": [
        "## Section 3: Depth by Site and Period (Box Plot)\n",
        "## Box Plot: Understanding Distribution in One Visual\n",
        "\n",
        "A box plot (also called a box-and-whisker plot) is a statistical chart used to visualize the distribution of a dataset, especially useful when comparing values across groups.\n",
        "\n",
        "It summarizes a numeric variable using five key statistics:\n",
        "\n",
        "1. **Minimum**: The smallest value (excluding outliers)\n",
        "2. **First Quartile (Q1)**: 25% of the data falls below this value\n",
        "3. **Median (Q2)**: The middle value (50% of the data is above and below this)\n",
        "4. **Third Quartile (Q3)**: 75% of the data falls below this value\n",
        "5. **Maximum**: The largest value (excluding outliers)\n",
        "\n",
        "Outliers (extremely high or low values) are plotted as dots outside the \"whiskers.\"\n",
        "\n",
        "---\n",
        "\n",
        "### What It Shows:\n",
        "\n",
        "- The **box** spans from Q1 to Q3 — the interquartile range (IQR) — containing the middle 50% of the data.\n",
        "- The **line inside the box** is the median.\n",
        "- The **whiskers** extend to the lowest and highest non-outlier values.\n",
        "- **Outliers** are shown as individual points beyond the whiskers.\n",
        "\n",
        "---\n",
        "\n",
        "### When to Use It:\n",
        "\n",
        "Box plots are great when you want to:\n",
        "\n",
        "- Compare **distributions across multiple groups** (e.g., Price by Region)\n",
        "- Identify **skewed data** (asymmetric box or whiskers)\n",
        "- Spot **outliers**\n",
        "\n",
        "---\n",
        "\n",
        "We use `x=Site` and `y=DepthMeters`, grouped by `Period` (assigned a Hue/color to Period) to compare excavation depths across sites and periods."
      ]
    },
    {
      "cell_type": "code",
      "execution_count": null,
      "id": "d7b744cb",
      "metadata": {
        "id": "d7b744cb"
      },
      "outputs": [],
      "source": [
        "plt.figure(figsize=(12, 6))\n",
        "sns.boxplot(data=df, x=\"Site\", y=\"DepthMeters\", hue=\"Period\")\n",
        "plt.title(\"Excavation Depth by Site and Period\")\n",
        "plt.xticks(rotation=45)\n",
        "plt.tight_layout()\n",
        "plt.show()"
      ]
    },
    {
      "cell_type": "markdown",
      "id": "269d64cb",
      "metadata": {
        "id": "269d64cb"
      },
      "source": [
        "# RDF Graph Visualization (CIDOC CRM)\n",
        "\n",
        "## Explanation of `pyvis` Graph Construction\n",
        "\n",
        "We use the `Network` class from the `pyvis.network` module to build an interactive graph based on RDF triples.\n",
        "\n",
        "---\n",
        "\n",
        "### `net = Network(height=\"750px\", width=\"100%\", directed=True)`\n",
        "\n",
        "This creates a new interactive graph canvas.\n",
        "\n",
        "- `height` and `width`: set the size of the output graph in pixels or percentage.\n",
        "- `directed=True`: means the graph will have **arrowed edges**, showing direction from subject to object.\n",
        "\n",
        "---\n",
        "\n",
        "### net.add_node(...)\n",
        "This adds a node to the graph. A node is a circle with a label attached.\n",
        "\n",
        "The first argument is the node ID (it must be unique).\n",
        "\n",
        "label=... sets the text shown next to the node.\n",
        "\n",
        "If the node already exists, it won’t be duplicated.\n",
        "\n",
        "### net.add_edge(...)\n",
        "net.add_edge(s_label, o_label, label=p_label)\n",
        "\n",
        "This creates a line (edge) between two nodes.\n",
        "\n",
        "s_label: the source node (where the edge starts)\n",
        "\n",
        "o_label: the target node (where the edge ends)\n",
        "\n",
        "label=p_label: optional text displayed on the line (typically the RDF predicate)\n",
        "\n",
        "---\n",
        "\n",
        "Together, these methods let you turn RDF triples (subject, predicate, object) into a visual graph, where:\n",
        "\n",
        "Nodes are resources (subjects and objects),\n",
        "\n",
        "Edges are relationships (predicates).\n"
      ]
    },
    {
      "cell_type": "code",
      "execution_count": 19,
      "id": "f834d60d",
      "metadata": {
        "id": "f834d60d"
      },
      "outputs": [],
      "source": [
        "# Generating a syntethic graph\n",
        "#!pip install rdflib\n",
        "#!pip install pyvis\n",
        "from rdflib import Graph, Namespace, RDF, RDFS, Literal\n",
        "from pyvis.network import Network\n",
        "import random\n",
        "\n",
        "g = Graph()\n",
        "EX = Namespace(\"http://example.org/\")\n",
        "CRM = Namespace(\"http://www.cidoc-crm.org/cidoc-crm/\")\n",
        "g.bind(\"ex\", EX)\n",
        "g.bind(\"crm\", CRM)\n",
        "\n",
        "artifacts = [\"Amphora\", \"Statue\", \"Coin\", \"Mosaic\"]\n",
        "sites = [\"Pompeii\", \"Knossos\"]\n",
        "materials = [\"Clay\", \"Marble\", \"Bronze\", \"Stone\"]\n",
        "periods = [\"Roman\", \"Hellenistic\"]\n",
        "\n",
        "for i, name in enumerate(artifacts):\n",
        "    art = EX[f\"artifact{i}\"]\n",
        "    prod = EX[f\"production{i}\"]\n",
        "    g.add((art, RDF.type, CRM[\"E22_Man-Made_Object\"]))\n",
        "    g.add((art, RDFS.label, Literal(name)))\n",
        "    g.add((art, CRM[\"P108i_was_produced_by\"], prod))\n",
        "    g.add((prod, CRM[\"P7_took_place_at\"], Literal(random.choice(sites))))\n",
        "    g.add((prod, CRM[\"P4_has_time-span\"], Literal(random.choice(periods))))\n",
        "    g.add((art, CRM[\"P45_consists_of\"], Literal(random.choice(materials))))"
      ]
    },
    {
      "cell_type": "markdown",
      "id": "03b55f7c",
      "metadata": {
        "id": "03b55f7c"
      },
      "source": [
        "### Basic Interactive RDF Graph (one color)"
      ]
    },
    {
      "cell_type": "code",
      "execution_count": 20,
      "id": "4503b2ce",
      "metadata": {
        "id": "4503b2ce"
      },
      "outputs": [],
      "source": [
        "net = Network(height=\"750px\", width=\"100%\", directed=True)\n",
        "\n",
        "for s, p, o in g:\n",
        "    s_label = s.split(\"/\")[-1]\n",
        "    o_label = o.split(\"/\")[-1] if isinstance(o, Namespace) or isinstance(o, str) else str(o)\n",
        "    p_label = p.split(\"/\")[-1]\n",
        "    net.add_node(s_label, label=s_label)\n",
        "    net.add_node(o_label, label=o_label)\n",
        "    net.add_edge(s_label, o_label, label=p_label)\n",
        "\n",
        "net.write_html(\"basic_graph.html\") # save the graph"
      ]
    },
    {
      "cell_type": "markdown",
      "id": "48060735",
      "metadata": {
        "id": "48060735"
      },
      "source": [
        "### Class-Colored RDF Graph (Yellow Classes, Purple Instances)"
      ]
    },
    {
      "cell_type": "code",
      "execution_count": 21,
      "id": "ed662045",
      "metadata": {
        "id": "ed662045"
      },
      "outputs": [],
      "source": [
        "from rdflib.namespace import RDF\n",
        "\n",
        "net = Network(height=\"750px\", width=\"100%\", directed=True)\n",
        "classes = set(o for s, p, o in g.triples((None, RDF.type, None)))\n",
        "\n",
        "for s, p, o in g:\n",
        "    s_label = s.split(\"/\")[-1]\n",
        "    o_label = o.split(\"/\")[-1] if isinstance(o, Namespace) or isinstance(o, str) else str(o)\n",
        "    p_label = p.split(\"/\")[-1]\n",
        "\n",
        "    net.add_node(s_label, label=s_label, color='purple')\n",
        "    color = 'yellow' if o in classes else 'purple'\n",
        "    net.add_node(o_label, label=o_label, color=color)\n",
        "    net.add_edge(s_label, o_label, label=p_label)\n",
        "\n",
        "net.write_html(\"class_colored_graph.html\") # save the graph"
      ]
    },
    {
      "cell_type": "markdown",
      "id": "5b9ee38f",
      "metadata": {
        "id": "5b9ee38f"
      },
      "source": [
        "### Exercise: Add Different Colors for Materials and Time Periods\n",
        "FIrst use RDFLib to get a set of the materials (they are the object of a specific relationship...) The same goes for time periods. Once you have the sets you can assign them the colors.\n",
        "<details>\n",
        "<summary> Click to show solution</summary>\n",
        "\n",
        "```python\n",
        "from rdflib.namespace import RDF\n",
        "\n",
        "net = Network(height=\"750px\", width=\"100%\", directed=True)\n",
        "classes = set(o for s, p, o in g.triples((None, RDF.type, None)))\n",
        "materials = set(o for s, p, o in g.triples((None, CRM.P45_consists_of, None)))\n",
        "timespans = set(o for s, p, o in g.triples((None, CRM[\"P4_has_time-span\"], None)))\n",
        "\n",
        "for s, p, o in g:\n",
        "    s_label = s.split(\"/\")[-1]\n",
        "    o_label = o.split(\"/\")[-1] if isinstance(o, Namespace) or isinstance(o, str) else str(o)\n",
        "    p_label = p.split(\"/\")[-1]\n",
        "\n",
        "    net.add_node(s_label, label=s_label, color='purple')\n",
        "    if o in classes:\n",
        "        color = \"yellow\"\n",
        "    elif o in materials:\n",
        "        color = \"green\"\n",
        "    elif o in timespans:\n",
        "        color = \"pink\"\n",
        "    else:\n",
        "        color = \"purple\"\n",
        "    net.add_node(o_label, label=o_label, color=color)\n",
        "    net.add_edge(s_label, o_label, label=p_label)\n",
        "\n",
        "net.write_html(\"new_colored_graph.html\")\n",
        "```\n",
        "</details>"
      ]
    },
    {
      "cell_type": "code",
      "source": [
        "from rdflib.namespace import RDF\n",
        "\n",
        "net = Network(height=\"750px\", width=\"100%\", directed=True)\n",
        "classes = set(o for s, p, o in g.triples((None, RDF.type, None)))\n",
        "materials = set(o for s, p, o in g.triples((None, CRM.P45_consists_of, None)))\n",
        "timespans = set(o for s, p, o in g.triples((None, CRM[\"P4_has_time-span\"], None)))\n",
        "\n",
        "for s, p, o in g:\n",
        "    s_label = s.split(\"/\")[-1]\n",
        "    o_label = o.split(\"/\")[-1] if isinstance(o, Namespace) or isinstance(o, str) else str(o)\n",
        "    p_label = p.split(\"/\")[-1]\n",
        "\n",
        "    net.add_node(s_label, label=s_label, color='purple')\n",
        "    if o in classes:\n",
        "        color = \"yellow\"\n",
        "    elif o in materials:\n",
        "        color = \"green\"\n",
        "    elif o in timespans:\n",
        "        color = \"pink\"\n",
        "    else:\n",
        "        color = \"purple\"\n",
        "    net.add_node(o_label, label=o_label, color=color)\n",
        "    net.add_edge(s_label, o_label, label=p_label)\n",
        "\n",
        "net.write_html(\"new_colored_graph.html\")"
      ],
      "metadata": {
        "id": "IGkPRRKAXMMy"
      },
      "id": "IGkPRRKAXMMy",
      "execution_count": 23,
      "outputs": []
    },
    {
      "cell_type": "markdown",
      "source": [
        "## Some \"easy\" way to look for visualizations\n"
      ],
      "metadata": {
        "id": "kKYFPBlhWNi_"
      },
      "id": "kKYFPBlhWNi_"
    },
    {
      "cell_type": "code",
      "source": [
        "# !pip install ydata_profiling (the first time you need to install it)\n",
        "import ydata_profiling as cheat\n",
        "import pandas as pd\n",
        "\n",
        "example_met = pd.read_csv(\"met_museum_5000_sample.csv\")\n",
        "\n",
        "cheat.ProfileReport(df)"
      ],
      "metadata": {
        "id": "x4UYT6e5SdP5"
      },
      "id": "x4UYT6e5SdP5",
      "execution_count": null,
      "outputs": []
    },
    {
      "cell_type": "code",
      "source": [],
      "metadata": {
        "colab": {
          "base_uri": "https://localhost:8080/",
          "height": 64
        },
        "id": "1rq0bAf3SksW",
        "outputId": "cc34e94d-a895-459b-ebcb-da79fa9c2ed9"
      },
      "id": "1rq0bAf3SksW",
      "execution_count": 2,
      "outputs": [
        {
          "output_type": "display_data",
          "data": {
            "text/plain": [
              "<IPython.core.display.HTML object>"
            ],
            "text/html": [
              "\n",
              "            <div>\n",
              "                <ins><a href=\"https://ydata.ai/register\">Upgrade to ydata-sdk</a></ins>\n",
              "                <p>\n",
              "                    Improve your data and profiling with ydata-sdk, featuring data quality scoring, redundancy detection, outlier identification, text validation, and synthetic data generation.\n",
              "                </p>\n",
              "            </div>\n",
              "            "
            ]
          },
          "metadata": {}
        }
      ]
    },
    {
      "cell_type": "code",
      "source": [
        "example_met.head()"
      ],
      "metadata": {
        "id": "k-XxHgRiS9Sg"
      },
      "id": "k-XxHgRiS9Sg",
      "execution_count": null,
      "outputs": []
    },
    {
      "cell_type": "code",
      "source": [
        "### You need to clean it and filter it to use correctly\n",
        "### the profile report, or there will be mistakes :)"
      ],
      "metadata": {
        "id": "DgApMR40UJPD"
      },
      "id": "DgApMR40UJPD",
      "execution_count": null,
      "outputs": []
    },
    {
      "cell_type": "markdown",
      "source": [
        "## What data visualization to use?\n",
        "https://www.data-to-viz.com/\n",
        "## How to find the code to do visualizations in Python?\n",
        "https://python-graph-gallery.com/\n"
      ],
      "metadata": {
        "id": "dFdTpJT2VKEP"
      },
      "id": "dFdTpJT2VKEP"
    },
    {
      "cell_type": "code",
      "source": [],
      "metadata": {
        "id": "DqMZU7I5Vesk"
      },
      "id": "DqMZU7I5Vesk",
      "execution_count": null,
      "outputs": []
    },
    {
      "cell_type": "markdown",
      "source": [
        "### Exercise:\n",
        "\n",
        "Experiment with visualizations on the MET and the initial DF. Look at the data and try to make new visualizations.\n",
        "\n",
        "Explore the various visualizations in data-to-viz. Find the code on python graph gallery if they are available!\n",
        "\n",
        "Tweak the code to adapt it to your data, and filter your date to be suitable to be put in a visualization!"
      ],
      "metadata": {
        "id": "xJLdk-IdVfh_"
      },
      "id": "xJLdk-IdVfh_"
    },
    {
      "cell_type": "markdown",
      "source": [
        "### Extra, at home: A tutorial that is useful for the exam, we will see more of this in 2 weeks\n",
        "\n",
        "https://www.wikidata.org/wiki/Wikidata:SPARQL_tutorial (multilingual)"
      ],
      "metadata": {
        "id": "JuYPrXH5VtwE"
      },
      "id": "JuYPrXH5VtwE"
    },
    {
      "cell_type": "code",
      "source": [],
      "metadata": {
        "id": "k8MUIw4ZYWnN"
      },
      "id": "k8MUIw4ZYWnN",
      "execution_count": null,
      "outputs": []
    }
  ],
  "metadata": {
    "colab": {
      "provenance": [],
      "include_colab_link": true
    },
    "language_info": {
      "name": "python"
    },
    "kernelspec": {
      "name": "python3",
      "display_name": "Python 3"
    }
  },
  "nbformat": 4,
  "nbformat_minor": 5
}