{
  "cells": [
    {
      "cell_type": "markdown",
      "metadata": {
        "id": "view-in-github",
        "colab_type": "text"
      },
      "source": [
        "<a href=\"https://colab.research.google.com/github/ACTH-DKES/ACTH2025/blob/main/week8/week8.ipynb\" target=\"_parent\"><img src=\"https://colab.research.google.com/assets/colab-badge.svg\" alt=\"Open In Colab\"/></a>"
      ]
    },
    {
      "cell_type": "markdown",
      "id": "3ef09a39",
      "metadata": {
        "id": "3ef09a39"
      },
      "source": [
        "# Querying RDF Data with Python\n",
        "\n",
        "In this notebook, we’ll learn how to query RDF data from two perspectives:\n",
        "\n",
        "1. Using **SPARQLWrapper** to query online SPARQL endpoints (like Wikidata).\n",
        "2. Using `rdflib`'s `.query()` method to run SPARQL queries on local RDF graphs.\n",
        "\n",
        "---\n",
        "\n",
        "## 1. SPARQLWrapper: Querying Online SPARQL Endpoints\n",
        "\n",
        "[SPARQLWrapper](https://rdflib.github.io/sparqlwrapper/) is a Python wrapper around a SPARQL service. It allows us to send SPARQL queries and receive results in formats like JSON or XML.\n",
        "\n",
        "| Method                        | Description                                                                                            |\n",
        "| ----------------------------- | ------------------------------------------------------------------------------------------------------ |\n",
        "| `SPARQLWrapper(endpoint_url)` | Initializes the object with the URL of the SPARQL endpoint.                                            |\n",
        "| `.setQuery(query_string)`     | Sets the SPARQL query string to be executed.                                                           |\n",
        "| `.setReturnFormat(format)`    | Specifies the format of the returned result. Common formats include `JSON`, `XML`, `TURTLE`, and `N3`. |\n",
        "| `.addParameter(key, value)`   | Adds a custom URL parameter to the request.                                                            |\n",
        "| `.setMethod(HTTPMethod)`      | Sets the HTTP method to use (`GET` or `POST`, default is `GET`).                                       |\n",
        "| `.query()`                    | Executes the query. Returns a `QueryResult` object.                                                    |\n",
        "| `.query().convert()`          | Executes the query and converts the result into the specified format (commonly JSON).                  |\n"
      ]
    },
    {
      "cell_type": "code",
      "execution_count": null,
      "id": "bc1b307c",
      "metadata": {
        "id": "bc1b307c"
      },
      "outputs": [],
      "source": [
        "!pip install SPARQLWrapper"
      ]
    },
    {
      "cell_type": "code",
      "execution_count": null,
      "id": "afdad574",
      "metadata": {
        "id": "afdad574"
      },
      "outputs": [],
      "source": [
        "from SPARQLWrapper import SPARQLWrapper, JSON\n",
        "\n",
        "# Define the endpoint and your query\n",
        "endpoint_url = \"https://query.wikidata.org/sparql\"\n",
        "sparql = SPARQLWrapper(endpoint_url)\n",
        "sparql.setReturnFormat(JSON)\n",
        "\n",
        "# A simple query: get 5 famous Renaissance painters and their birthplaces\n",
        "query = \"\"\"\n",
        "SELECT ?person ?personLabel ?birthplaceLabel WHERE {\n",
        "  ?person wdt:P106 wd:Q1028181;   # occupation: painter\n",
        "          wdt:P800 ?work;         # notable work\n",
        "          wdt:P19 ?birthplace.    # place of birth\n",
        "  ?work wdt:P135 wd:Q4692.        # renaissance movement\n",
        "  SERVICE wikibase:label { bd:serviceParam wikibase:language \"[AUTO_LANGUAGE],en\". }\n",
        "}\n",
        "LIMIT 5\n",
        "\"\"\"\n",
        "\n",
        "sparql.setQuery(query)\n",
        "results = sparql.query().convert()\n",
        "\n",
        "# Parse and print the results\n",
        "for result in results[\"results\"][\"bindings\"]: # in this case it's a JSON!\n",
        "    print(f\"{result['personLabel']['value']} was born in {result['birthplaceLabel']['value']}\")"
      ]
    },
    {
      "cell_type": "code",
      "source": [
        "results[\"results\"][\"bindings\"]"
      ],
      "metadata": {
        "id": "k_3ZWsJXLf8x"
      },
      "id": "k_3ZWsJXLf8x",
      "execution_count": null,
      "outputs": []
    },
    {
      "cell_type": "markdown",
      "id": "4a1d27b6",
      "metadata": {
        "id": "4a1d27b6"
      },
      "source": [
        "---\n",
        "## Exercise 1\n",
        "\n",
        "Modify the query to retrieve famous **Baroque** painters instead. Baroque is `wd:Q37853`.\n",
        "\n",
        "<details> <summary> Solution (just the query) </summary>\n",
        "<pre>\n",
        "query = \"\"\"\n",
        "SELECT ?person ?personLabel ?birthplaceLabel WHERE {\n",
        "  ?person wdt:P106 wd:Q1028181;\n",
        "          wdt:P800 ?work;\n",
        "          wdt:P19 ?birthplace.\n",
        "  ?work wdt:P135 wd:Q37853.  # Baroque\n",
        "  SERVICE wikibase:label { bd:serviceParam wikibase:language \"[AUTO_LANGUAGE],en\". }\n",
        "}\n",
        "LIMIT 5\n",
        "\"\"\"\n",
        "</pre>\n",
        "</details>"
      ]
    },
    {
      "cell_type": "markdown",
      "id": "2649273d",
      "metadata": {
        "id": "2649273d"
      },
      "source": [
        "---\n",
        "## 2. Querying Local RDF with `rdflib`\n",
        "\n",
        "You can use `rdflib`'s `.query()` method to execute SPARQL on RDF graphs you've loaded or built in memory."
      ]
    },
    {
      "cell_type": "code",
      "execution_count": null,
      "id": "b74b0c9d",
      "metadata": {
        "id": "b74b0c9d"
      },
      "outputs": [],
      "source": [
        "!pip install rdflib"
      ]
    },
    {
      "cell_type": "code",
      "execution_count": null,
      "id": "6cc858a9",
      "metadata": {
        "id": "6cc858a9"
      },
      "outputs": [],
      "source": [
        "from rdflib import Graph, Namespace, Literal, RDF, URIRef, FOAF\n",
        "\n",
        "# Create a small graph manually\n",
        "ex = Namespace(\"http://example.org/\")\n",
        "g = Graph()\n",
        "\n",
        "# Add a few triples\n",
        "g.add((ex.Michelangelo, RDF.type, ex.Painter))\n",
        "g.add((ex.Michelangelo, FOAF.name, Literal(\"Michelangelo\")))\n",
        "g.add((ex.Michelangelo, ex.birthPlace, Literal(\"Caprese\")))\n",
        "g.add((ex.Raphael, RDF.type, ex.Painter))\n",
        "g.add((ex.Raphael, ex.birthPlace, Literal(\"Urbino\")))\n",
        "g.add((ex.Raphael, FOAF.name, Literal(\"Raphael\")))\n",
        "\n",
        "# Query the graph\n",
        "query = \"\"\"\n",
        "prefix ex: <http://example.org/>\n",
        "prefix foaf: <http://xmlns.com/foaf/0.1/>\n",
        "SELECT ?name ?place WHERE {\n",
        "  ?painter a ex:Painter ;\n",
        "           foaf:name ?name ;\n",
        "        ex:birthPlace ?place .\n",
        "}\n",
        "\"\"\"\n",
        "\n",
        "results = g.query(query)\n",
        "\n",
        "for row in results:\n",
        "    print(f\"{row.name} was born in {row.place}\")"
      ]
    },
    {
      "cell_type": "markdown",
      "id": "6bf5545c",
      "metadata": {
        "id": "6bf5545c"
      },
      "source": [
        "---\n",
        "## Exercise 2\n",
        "\n",
        "Add Leonardo da Vinci to the graph with birthplace Vinci, and re-run the query.\n",
        "\n",
        "<details><summary>Solution (just adding the new triples)</summary>\n",
        "<pre>\n",
        "g.add((ex.Leonardo, RDF.type, ex.Painter))\n",
        "g.add((ex.Leonardo, FOAF.name, Literal(\"Leonardo\")))\n",
        "g.add((ex.Leonardo, ex.birthPlace, Literal(\"Vinci\")))\n",
        "</pre>\n",
        "</details>"
      ]
    },
    {
      "cell_type": "markdown",
      "id": "1d0fb7a3",
      "metadata": {
        "id": "1d0fb7a3"
      },
      "source": [
        "---\n",
        "## 3. Querying Wikidata and Displaying the Results\n",
        "\n",
        "Let’s go back to Wikidata and do a more complex query, then display results as a table using `pandas`."
      ]
    },
    {
      "cell_type": "code",
      "execution_count": null,
      "id": "9a44c8b0",
      "metadata": {
        "id": "9a44c8b0"
      },
      "outputs": [],
      "source": [
        "import pandas as pd\n",
        "\n",
        "query = \"\"\"\n",
        "SELECT ?artist ?artistLabel ?birthLabel WHERE {\n",
        "  ?artist wdt:P106 wd:Q1028181;    # painter\n",
        "          wdt:P569 ?birth.         # birth date\n",
        "  FILTER(YEAR(?birth) > 1800)\n",
        "  SERVICE wikibase:label { bd:serviceParam wikibase:language \"[AUTO_LANGUAGE],en\". }\n",
        "}\n",
        "LIMIT 10\n",
        "\"\"\"\n",
        "\n",
        "sparql.setQuery(query)\n",
        "results = sparql.query().convert()\n",
        "\n",
        "# Build a dataframe\n",
        "data = []\n",
        "for r in results[\"results\"][\"bindings\"]:\n",
        "    data.append({\n",
        "        \"Artist\": r[\"artistLabel\"][\"value\"],\n",
        "        \"Birth Date\": r[\"birthLabel\"][\"value\"],\n",
        "    })\n",
        "\n",
        "df = pd.DataFrame(data)\n",
        "df"
      ]
    },
    {
      "cell_type": "markdown",
      "id": "d2a55637",
      "metadata": {
        "id": "d2a55637"
      },
      "source": [
        "---\n",
        "## Exercise 3\n",
        "\n",
        "Change the filter to show only painters born **before 1600**.\n",
        "\n",
        "<details><summary>Solution (just the query) </summary> <pre>\n",
        "newquery = \"\"\"SELECT ?artist ?artistLabel ?birthLabel WHERE {\n",
        "  ?artist wdt:P106 wd:Q1028181;    # painter\n",
        "          wdt:P569 ?birth.         # birth date\n",
        "  FILTER(YEAR(?birth) > 1800)\n",
        "  SERVICE wikibase:label { bd:serviceParam wikibase:language \"[AUTO_LANGUAGE],en\". }\n",
        "}\n",
        "LIMIT 10\"\"\" </pre>\n",
        "</details>"
      ]
    }
  ],
  "metadata": {
    "colab": {
      "provenance": [],
      "include_colab_link": true
    },
    "language_info": {
      "name": "python"
    },
    "kernelspec": {
      "name": "python3",
      "display_name": "Python 3"
    }
  },
  "nbformat": 4,
  "nbformat_minor": 5
}