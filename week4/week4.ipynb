{
  "nbformat": 4,
  "nbformat_minor": 0,
  "metadata": {
    "colab": {
      "provenance": [],
      "authorship_tag": "ABX9TyMxD9EfplqQC+RpgzhhM9dX",
      "include_colab_link": true
    },
    "kernelspec": {
      "name": "python3",
      "display_name": "Python 3"
    },
    "language_info": {
      "name": "python"
    }
  },
  "cells": [
    {
      "cell_type": "markdown",
      "metadata": {
        "id": "view-in-github",
        "colab_type": "text"
      },
      "source": [
        "<a href=\"https://colab.research.google.com/github/ACTH-DKES/ACTH2025/blob/main/week4/week4.ipynb\" target=\"_parent\"><img src=\"https://colab.research.google.com/assets/colab-badge.svg\" alt=\"Open In Colab\"/></a>"
      ]
    },
    {
      "cell_type": "markdown",
      "source": [
        "# Introduction to Python Classes with Artworks and Archeology\n",
        "\n",
        "Python is an object-oriented programming language. Meaning that you can create objects with a specific type, and you can code their attributes (data) and methods (functions). A class is a template for creating objects. We are using built-in classes since the beginning with Python.\n",
        "\n",
        "When we create a list, we write"
      ],
      "metadata": {
        "id": "KtjpTk0cWEUn"
      }
    },
    {
      "cell_type": "code",
      "source": [
        "my_list = list() # constructor method!\n",
        "my_list.append(\"hi\") # method to add an element to a list\n"
      ],
      "metadata": {
        "id": "-swQ7SX0Wg1X"
      },
      "execution_count": null,
      "outputs": []
    },
    {
      "cell_type": "markdown",
      "source": [
        "Classes encapsulate data (attributes) and functions (methods) that operate on the data. You can import classes in the same way you import functions.\n",
        "\n",
        "## Terminology we will see today\n",
        "\n",
        "- **Class**: A blueprint for creating objects. Defines the structure (attributes) and behavior (methods).\n",
        "- **Object**: An individual instance of a class.\n",
        "- **Attribute**: A variable that holds data specific to an object.\n",
        "- **Method**: A function defined within a class that operates on its attributes.\n",
        "- **Inheritance**: Mechanism where a class can inherit attributes and methods from another class.\n",
        "- **`__init__`**: A special method that initializes a new object when it is created. It's called the constructor.\n",
        "- **`self`**: A reference to the current instance of the class. It allows access to instance variables and methods. Must be included as a parameter in every method of a class\n",
        "- **`super()`**: A function that allows a subclass to call methods from its parent class. Often used to invoke the constructor of the superclass."
      ],
      "metadata": {
        "id": "k55iQJjRWzCg"
      }
    },
    {
      "cell_type": "markdown",
      "source": [
        "## Defining and Using a Class\n",
        "\n",
        "First, we define a simple class with only a few attributes and no methods. To define a class, you need to start with the **class** statement"
      ],
      "metadata": {
        "id": "EpSP6cJ5XFlv"
      }
    },
    {
      "cell_type": "code",
      "source": [
        "class SimpleArtwork:\n",
        "    def __init__(self, title, artist): # __init__ is the function where you specify the initial attributes of the class\n",
        "    # more attirbutes can be defined later (or before as global attributes)\n",
        "        self.title = title # here we assign to the attributes the value of the variables\n",
        "        self.artist = artist"
      ],
      "metadata": {
        "id": "hEt2PPlwXLAl"
      },
      "execution_count": null,
      "outputs": []
    },
    {
      "cell_type": "markdown",
      "source": [
        "### Again, Remember:\n",
        "#### Why do we use `__init__`, `self`\n",
        "- `__init__` lets you define what happens when an object is instantiated — what initial data it should carry.\n",
        "- `self` is used to access or modify attributes and methods inside the class. It must be the first parameter of every instance method."
      ],
      "metadata": {
        "id": "jwChxrdRdBEY"
      }
    },
    {
      "cell_type": "markdown",
      "source": [
        "To create an object of a class, we type the class name and inside of parenthesis the attributes of the class."
      ],
      "metadata": {
        "id": "mSuR98XeYRx3"
      }
    },
    {
      "cell_type": "code",
      "source": [
        "# Create an object\n",
        "simple_art = SimpleArtwork(\"Mona Lisa\", \"Leonardo da Vinci\")\n",
        "\n",
        "print(simple_art.title) # you can call the object attributes with the syntax\n",
        "# object_name.attribute_name\n",
        "print(simple_art.artist)"
      ],
      "metadata": {
        "id": "28pQwYohYXzu"
      },
      "execution_count": null,
      "outputs": []
    },
    {
      "cell_type": "code",
      "source": [
        "class SimpleArtwork: # we expand the initial class by adding more attributes\n",
        "    def __init__(self, title, artist, year, medium):\n",
        "        self.title = title\n",
        "        self.artist = artist\n",
        "        self.year = year\n",
        "        self.medium = medium\n",
        "\n",
        "simple_art = SimpleArtwork(\"The Night Watch\", \"Rembrandt\", 1642, \"Oil on canvas\")\n",
        "print(simple_art.title, simple_art.artist, simple_art.year, simple_art.medium)"
      ],
      "metadata": {
        "id": "UIdDipO8YkOe"
      },
      "execution_count": null,
      "outputs": []
    },
    {
      "cell_type": "markdown",
      "source": [
        "## Methods\n",
        "\n",
        "Methods are functions created inside (one indentation) of classes, that run once called on objects belonging to the class (or its superclasses - more on this later)"
      ],
      "metadata": {
        "id": "ZuOnwvpeZutO"
      }
    },
    {
      "cell_type": "code",
      "source": [
        "class SimpleArtwork:\n",
        "    def __init__(self, title, artist, year, medium):\n",
        "        self.title = title\n",
        "        self.artist = artist\n",
        "        self.year = year\n",
        "        self.medium = medium\n",
        "\n",
        "    def describe(self):\n",
        "        return f\"'{self.title}' by {self.artist} ({self.year}), {self.medium}.\"\n",
        "\n",
        "simple_art = SimpleArtwork(\"Guernica\", \"Pablo Picasso\", 1937, \"Oil on canvas\")\n",
        "print(simple_art.describe())"
      ],
      "metadata": {
        "id": "Kqbjve0zZ8YL"
      },
      "execution_count": null,
      "outputs": []
    },
    {
      "cell_type": "markdown",
      "source": [
        "## Inheritance\n",
        "\n",
        "When you create a new class, you can specify inside `()`  the superclass of this class. The new class will inherit the methods of the superclass, and can specify new ones.\n",
        "\n",
        "**Important**: the inheritance is not transitive! Meaning that if I have a class Food with the method calculate_calories(), and I create a subclass Apple and a method call count_seeds(), while I can use calculate_calories() for an object of the class Apple, I cannot use count_seeds() for objects of the class Food!"
      ],
      "metadata": {
        "id": "Us9jlI8PaO1H"
      }
    },
    {
      "cell_type": "code",
      "source": [
        "class CulturalObject:\n",
        "    location = \"Unknown\" # Automatic attribute for every new cultural object\n",
        "    def __init__(self, title, creator, year, medium, is_authentic=True, condition_score=10):\n",
        "        self.title = title\n",
        "        self.creator = creator\n",
        "        self.year = year\n",
        "        self.medium = medium\n",
        "        self.is_authentic = is_authentic  # Boolean\n",
        "        self.condition_score = condition_score  # Integer from 0 (worst) to 10 (best)\n",
        "\n",
        "    def relocate(self, new_location):\n",
        "        CulturalObject.location = new_location\n",
        "\n",
        "    def describe_basic(self):\n",
        "        authenticity = \"authentic\" if self.is_authentic else \"replica\"\n",
        "        return f\"'{self.title}' by {self.creator}, {authenticity}, {self.year}, {self.medium}, condition: {self.condition_score}/10.\"\n",
        "\n",
        "    def citation(self, location):\n",
        "        return f\"{self.creator}. ({self.year}). {self.title}. {self.medium}. {location}.\"\n",
        "\n",
        "class Artwork(CulturalObject):\n",
        "\n",
        "    def __init__(self, title, artist, year, medium, subjects, is_authentic=True, condition_score=10):\n",
        "        super().__init__(title, artist, year, medium, is_authentic, condition_score)\n",
        "        self.subjects = set(subjects)\n",
        "\n",
        "    def return_subjects(self):\n",
        "        return \", \".join(self.subjects)\n",
        "\n",
        "    def describe_and_subjects(self):\n",
        "        return f\"{self.describe_basic()} Subjects: {self.return_subjects()}.\"\n",
        "\n",
        "    def compare_subjects(self, other_artwork):\n",
        "        shared = self.subjects & other_artwork.subjects\n",
        "        unique_self = self.subjects - other_artwork.subjects\n",
        "        unique_other = other_artwork.subjects - self.subjects\n",
        "        return {\n",
        "            \"shared\": shared,\n",
        "            \"unique_to_self\": unique_self,\n",
        "            \"unique_to_other\": unique_other\n",
        "        }\n",
        "\n",
        "class Artifact(CulturalObject):\n",
        "    period = \"Unknown\"\n",
        "\n",
        "    def __init__(self, title, creator, year, medium, artifact_type, site, condition, weight_kg, is_authentic=True, condition_score=10):\n",
        "        super().__init__(title, creator, year, medium, is_authentic, condition_score)\n",
        "        self.artifact_type = artifact_type\n",
        "        self.site = site\n",
        "        self.condition = condition\n",
        "        self.weight_kg = weight_kg  # Float representing kilograms\n",
        "\n",
        "    def report(self):\n",
        "        return f\"{self.describe_basic()} A {self.condition} {self.artifact_type} from {self.site}, weighing {self.weight_kg}kg.\"\n",
        "\n",
        "    def date(self, new_period):\n",
        "        Artifact.period = new_period"
      ],
      "metadata": {
        "id": "CALSgpinbCZw"
      },
      "execution_count": null,
      "outputs": []
    },
    {
      "cell_type": "markdown",
      "source": [
        "## How to enforce specific data types and values in a class.\n",
        "\n",
        "It has happened many times that we try to run functions and we get an error as a result. When we create classes, we can make sure that if the users do not assign attributes correctly, errors are raised!\n",
        "\n",
        "Let's raise an error if the users do not put integer as the data type of the condition_score attributes, and if the condition score is not within 0 and 10"
      ],
      "metadata": {
        "id": "f0kzLvKwblOe"
      }
    },
    {
      "cell_type": "code",
      "source": [
        "class CulturalObject:\n",
        "    location = \"Unknown\"  # Class attribute shared across all instances\n",
        "\n",
        "    def __init__(self, title, creator, year, medium, is_authentic=True,\n",
        "                 condition_score=10):\n",
        "        if not isinstance(condition_score, int): # condition\n",
        "            raise TypeError(\"condition_score must be an integer.\") # ERROR1\n",
        "        if not (0 <= condition_score <= 10):\n",
        "            raise ValueError(\"condition_score must be between 0 and 10.\") # ERROR2\n",
        "\n",
        "        self.title = title\n",
        "        self.creator = creator\n",
        "        self.year = year\n",
        "        self.medium = medium\n",
        "        self.is_authentic = is_authentic\n",
        "        self.condition_score = condition_score\n",
        "\n",
        "    def relocate(self, new_location):\n",
        "        CulturalObject.location = new_location\n",
        "\n",
        "    def describe_basic(self):\n",
        "        authenticity = \"authentic\" if self.is_authentic else \"replica\"\n",
        "        return f\"'{self.title}' by {self.creator}, {authenticity}, {self.year}, {self.medium}, condition: {self.condition_score}/10.\"\n",
        "\n",
        "    def citation(self, location):\n",
        "        return f\"{self.creator}. ({self.year}). {self.title}. {self.medium}. {location}.\"\n"
      ],
      "metadata": {
        "id": "WJ--g2r0b9cO"
      },
      "execution_count": null,
      "outputs": []
    },
    {
      "cell_type": "markdown",
      "source": [
        "We use the **raise** keyword to raise errors in the code, and then we specifiy the types of errors. See https://last9.io/blog/types-of-errors-in-python/ for types of error."
      ],
      "metadata": {
        "id": "iLfkCMhvcJw_"
      }
    },
    {
      "cell_type": "code",
      "source": [
        "error_CO = CulturalObject(\"My life\", \"Brown Little Tailors\", 2001, \"Oil on canvas\", True, \"15\")"
      ],
      "metadata": {
        "id": "yZYHz6sqcZ8L"
      },
      "execution_count": null,
      "outputs": []
    },
    {
      "cell_type": "code",
      "source": [
        "error_CO = CulturalObject(\"My life\", \"Brown Little Tailors\", 2001, \"Oil on canvas\", True, 19)"
      ],
      "metadata": {
        "id": "HamvLHFicrLL"
      },
      "execution_count": null,
      "outputs": []
    },
    {
      "cell_type": "markdown",
      "source": [
        "### Why do we use super() when creating subclasses?\n",
        "\n",
        "- `super()` is useful for reusing code from the superclass and ensuring proper initialization in inheritance hierarchies.\n",
        "\n",
        "#### What happens if you omit `super()`?\n",
        "\n",
        "Consider the following example:"
      ],
      "metadata": {
        "id": "4e_O5CfMdUIo"
      }
    },
    {
      "cell_type": "code",
      "source": [
        "class CulturalObjectSimple:\n",
        "    def __init__(self, title):\n",
        "        self.title = title\n",
        "\n",
        "class FaultyArt(CulturalObjectSimple):\n",
        "    def __init__(self, title, creator):\n",
        "        self.creator = creator  # Forgot to call super().__init__(title)"
      ],
      "metadata": {
        "id": "K_jwskwBeoii"
      },
      "execution_count": null,
      "outputs": []
    },
    {
      "cell_type": "code",
      "source": [
        "a = FaultyArt(\"This is a mistake\", \"Mistake Creator\")\n",
        "a.title"
      ],
      "metadata": {
        "id": "fpwN2Rbbeuve"
      },
      "execution_count": null,
      "outputs": []
    },
    {
      "cell_type": "code",
      "source": [
        "class CulturalObjectSimple:\n",
        "    def __init__(self, title):\n",
        "        self.title = title\n",
        "\n",
        "class FaultyArt(CulturalObjectSimple):\n",
        "    def __init__(self, title, creator):\n",
        "        super().__init__(title)\n",
        "        self.creator = creator"
      ],
      "metadata": {
        "id": "YWGhDNmke-Up"
      },
      "execution_count": null,
      "outputs": []
    },
    {
      "cell_type": "code",
      "source": [
        "b = FaultyArt(\"This is a mistake\", \"Mistake Creator\")\n",
        "b.title"
      ],
      "metadata": {
        "id": "MJ3BlymVfEuR"
      },
      "execution_count": null,
      "outputs": []
    },
    {
      "cell_type": "code",
      "source": [
        "class Artifact(CulturalObject):\n",
        "    period = \"Unknown\"\n",
        "\n",
        "    def __init__(self, title, creator, year, medium, artifact_type, site, condition, weight_kg, is_authentic=True, condition_score=10):\n",
        "        super().__init__(title, creator, year, medium, is_authentic, condition_score)\n",
        "        self.artifact_type = artifact_type\n",
        "        self.site = site\n",
        "        self.condition = condition\n",
        "        self.weight_kg = weight_kg  # Float representing kilograms\n",
        "\n",
        "    def report(self):\n",
        "        return f\"{self.describe_basic()} A {self.condition} {self.artifact_type} from {self.site}, weighing {self.weight_kg} kg.\"\n",
        "\n",
        "    def date(self, new_period):\n",
        "        Artifact.period = new_period"
      ],
      "metadata": {
        "id": "tM81oet-GGRN"
      },
      "execution_count": null,
      "outputs": []
    },
    {
      "cell_type": "markdown",
      "source": [
        "## Exercise: Define a New Subclass `Inscription`\n",
        "\n",
        "Create a subclass of CulturalObject named `Inscription` with the following additional attributes:\n",
        "- language: string\n",
        "- inscription_type: string (e.g. legal, religious)\n",
        "- lines: list of strings (e.g. [\"Line 1\", \"Line 2\"])\n",
        "- line_n: integer\n",
        "\n",
        "Then, add a method `summary()` that describes the inscription. The method prints the describe_basic together with the information about the new attributes (except the lines attribute).\n",
        "\n",
        "Test it by creating a new Inscription with random information and testing the new method.\n",
        "\n",
        "<details><summary>Solution</summary>\n",
        "<pre>\n",
        "class Inscription(CulturalObject):\n",
        "    def __init__(self, title, creator, year, medium, language, inscription_type, lines, is_authentic=True, condition_score=10):\n",
        "        super().__init__(title, creator, year, medium, is_authentic, condition_score)\n",
        "        self.language = language\n",
        "        self.inscription_type = inscription_type\n",
        "        self.lines = lines\n",
        "        self.line_n = len(lines)\n",
        "    def summary(self):\n",
        "        return f\"{self.describe_basic()} Written in {self.language} ({self.line_n} lines), type: {self.inscription_type}.\n",
        "</pre>\n",
        "</details>"
      ],
      "metadata": {
        "id": "YSP9YK--Ge7T"
      }
    },
    {
      "cell_type": "markdown",
      "source": [
        "## Properties as dynamic attributes\n",
        "\n",
        "Instead of setting `line_n` only once at initialization, we can make it always reflect the current number of lines using a property. In Python, a property is a special kind of method that behaves like an attribute (You can call it with the syntax of an attribute and not a method). It allows you to define logic that is executed when you access an attribute, but it looks like regular attribute access from the outside.\n",
        "\n",
        "In the example of the inscription, if you want line_n to always reflect the current number of lines, even if self.lines changes after the object is created, then a @property is ideal."
      ],
      "metadata": {
        "id": "6c1QsLG1HwmD"
      }
    },
    {
      "cell_type": "code",
      "source": [
        "class Inscription(CulturalObject):\n",
        "    def __init__(self, title, creator, year, medium, language, inscription_type, lines, is_authentic=True, condition_score=10):\n",
        "        super().__init__(title, creator, year, medium, is_authentic, condition_score)\n",
        "        self.language = language\n",
        "        self.inscription_type = inscription_type\n",
        "        self.lines = lines\n",
        "\n",
        "    @property\n",
        "    def line_n(self):\n",
        "        return len(self.lines)\n",
        "\n",
        "    def summary(self):\n",
        "        return f\"{self.describe_basic()} Written in {self.language} ({self.line_n} lines), type: {self.inscription_type}.\""
      ],
      "metadata": {
        "id": "fF_y8sLHIQ84"
      },
      "execution_count": null,
      "outputs": []
    },
    {
      "cell_type": "code",
      "source": [
        "insc = Inscription(\"Code Tablet\", \"Unknown\", -500, \"Clay\", \"Sumerian\", \"legal\", [\"Line 1\", \"Line 2\"])\n",
        "print(insc.line_n)  # Output: 2\n",
        "\n",
        "insc.lines.append(\"Line 3\")\n",
        "print(insc.line_n)  # Output: 3 — automatically updated\n"
      ],
      "metadata": {
        "id": "29e_krZzI161"
      },
      "execution_count": null,
      "outputs": []
    },
    {
      "cell_type": "markdown",
      "source": [
        "### To combine with previous classes\n",
        "\n",
        "Creating objects via API data (Art Institute of Chicago)"
      ],
      "metadata": {
        "id": "-MWoJYT-JEg7"
      }
    },
    {
      "cell_type": "code",
      "source": [
        "import requests\n",
        "\n",
        "class ArtworkAPI:\n",
        "    def __init__(self, artwork_id):\n",
        "        self.artwork_id = artwork_id\n",
        "        self.data = self.fetch_data()\n",
        "\n",
        "    def fetch_data(self):\n",
        "        url = f\"https://api.artic.edu/api/v1/artworks/{self.artwork_id}\"\n",
        "        response = requests.get(url)\n",
        "        if response.status_code == 200:\n",
        "            return response.json()['data']\n",
        "        else:\n",
        "            return None\n",
        "\n",
        "    def describe(self):\n",
        "        if not self.data:\n",
        "            return \"No data found.\"\n",
        "        return f\"'{self.data['title']}' by {self.data['artist_display']} ({self.data['date_display']}). Medium: {self.data['medium_display']}.\""
      ],
      "metadata": {
        "id": "p-Dx-x2CJODC"
      },
      "execution_count": null,
      "outputs": []
    },
    {
      "cell_type": "code",
      "source": [
        "art_api = ArtworkAPI(27992)  # \"The Bedroom\" by Van Gogh\n",
        "print(art_api.describe())"
      ],
      "metadata": {
        "id": "yLmiuLpBJVZ_"
      },
      "execution_count": null,
      "outputs": []
    },
    {
      "cell_type": "markdown",
      "source": [
        "## More exercises\n",
        "\n",
        "Exercise: Integer Attribute Comparison\n",
        "\n",
        "Write a function <mark>(not a method of the class - external function)</mark> that takes two `Artwork` instances and returns the one in better condition based on condition_score.\n",
        "\n",
        "<details><summary>Solution</summary>\n",
        "<pre>\n",
        "def better_condition(artwork1, artwork2):\n",
        "    return artwork1 if artwork1.condition_score > artwork2.condition_score else artwork2\n",
        "\n",
        "better_art = better_condition(art1, art2)\n",
        "print(\"Artwork in better condition:\", better_art.describe())</pre></details>"
      ],
      "metadata": {
        "id": "H7r4awh-J9Q9"
      }
    },
    {
      "cell_type": "markdown",
      "source": [
        "# Extra: making a UML diagram of the classes\n",
        "\n",
        "UML (Unified Modelling Language) is a language used to describe object-oriented frameworks. It can also be visualized. In Python, you can use the graphviz package to create a UML diagram"
      ],
      "metadata": {
        "id": "k_Y8VO5xJhP2"
      }
    },
    {
      "cell_type": "code",
      "source": [
        "from graphviz import Digraph\n",
        "\n",
        "# Create a UML diagram using the Digraph class from graphviz\n",
        "uml = Digraph(name=\"ExtendedCulturalObjectSchemaWithReturnTypes\", format='png')\n",
        "uml.attr(rankdir='TB', splines='ortho')\n",
        "uml.attr('node', shape='record', style='filled', fillcolor='gold', fontname='Helvetica', fontsize='10')\n",
        "\n",
        "# Base class: CulturalObject\n",
        "uml.node(\"CulturalObject\", '''{\n",
        "CulturalObject|\n",
        "+ title : str\\\\l\n",
        "+ creator : str\\\\l\n",
        "+ year : int\\\\l\n",
        "+ medium : str\\\\l\n",
        "+ is_authentic : bool\\\\l\n",
        "+ condition_score : int\\\\l\n",
        "|\n",
        "+ describe_basic() : str\\\\l\n",
        "+ citation(location: str) : str\\\\l\n",
        "}''')\n",
        "\n",
        "# Subclass: Artwork\n",
        "uml.node(\"Artwork\", '''{\n",
        "Artwork|\n",
        "+ subjects : set\\\\l\n",
        "(class attr) location : str\\\\l\n",
        "|\n",
        "+ describe() : str\\\\l\n",
        "+ relocate(new_location: str) : None\\\\l\n",
        "+ compare_subjects(other: Artwork) : dict\\\\l\n",
        "}''')\n",
        "\n",
        "# Subclass: Artifact\n",
        "uml.node(\"Artifact\", '''{\n",
        "Artifact|\n",
        "+ artifact_type : str\\\\l\n",
        "+ site : str\\\\l\n",
        "+ condition : str\\\\l\n",
        "+ weight_kg : float\\\\l\n",
        "(class attr) period : str\\\\l\n",
        "|\n",
        "+ report() : str\\\\l\n",
        "+ date(new_period: str) : None\\\\l\n",
        "}''')\n",
        "\n",
        "# Subclass: Inscription\n",
        "uml.node(\"Inscription\", '''{\n",
        "Inscription|\n",
        "+ language : str\\\\l\n",
        "+ inscription_type : str\\\\l\n",
        "+ lines : list[str]\\\\l\n",
        "+ line_n : int (property)\\\\l\n",
        "|\n",
        "+ summary() : str\\\\l\n",
        "}''')\n",
        "\n",
        "# Inheritance arrows\n",
        "uml.edge(\"Artwork\", \"CulturalObject\", arrowhead=\"empty\", dir=\"back\")\n",
        "uml.edge(\"Artifact\", \"CulturalObject\", arrowhead=\"empty\", dir=\"back\")\n",
        "uml.edge(\"Inscription\", \"CulturalObject\", arrowhead=\"empty\", dir=\"back\")\n",
        "\n",
        "# Render diagram\n",
        "uml.render(\"ExtendedCulturalObjectSchemaWithReturnTypes\", cleanup=False)\n",
        "\"ExtendedCulturalObjectSchemaWithReturnTypes.png\"\n"
      ],
      "metadata": {
        "id": "dZzAM1w9Jgmt"
      },
      "execution_count": null,
      "outputs": []
    },
    {
      "cell_type": "code",
      "source": [],
      "metadata": {
        "id": "JNQ6hLkiHJHP"
      },
      "execution_count": null,
      "outputs": []
    }
  ]
}