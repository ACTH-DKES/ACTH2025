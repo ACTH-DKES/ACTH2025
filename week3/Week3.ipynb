{
  "nbformat": 4,
  "nbformat_minor": 0,
  "metadata": {
    "colab": {
      "provenance": [],
      "authorship_tag": "ABX9TyPjgQyTJ3T2K9I9CSEkb2UN",
      "include_colab_link": true
    },
    "kernelspec": {
      "name": "python3",
      "display_name": "Python 3"
    },
    "language_info": {
      "name": "python"
    }
  },
  "cells": [
    {
      "cell_type": "markdown",
      "metadata": {
        "id": "view-in-github",
        "colab_type": "text"
      },
      "source": [
        "<a href=\"https://colab.research.google.com/github/ACTH-DKES/ACTH2025/blob/main/week3/Week3.ipynb\" target=\"_parent\"><img src=\"https://colab.research.google.com/assets/colab-badge.svg\" alt=\"Open In Colab\"/></a>"
      ]
    },
    {
      "cell_type": "markdown",
      "source": [
        "# Week 3: Recursion, Divide and Conquer Algorithms, Dynamic Programming and APIs\n",
        "\n",
        "Part of the content of this class has been adapted from the following chapters of the computational thinking book by Silvio Peroni: [8](https://comp-think.github.io/book/08.pdf), [9](https://comp-think.github.io/book/09.pdf), [10](https://comp-think.github.io/book/10.pdf) released under the CCBY 4.0 license http://creativecommons.org/licenses/by/4.0/\n",
        "\n"
      ],
      "metadata": {
        "id": "xOfHxz5I0s34"
      }
    },
    {
      "cell_type": "markdown",
      "source": [
        "## Recursion\n",
        "\n",
        "Recursion, in computer science, is used when the solution to a computational problem can be reached by combining partial solutions of smaller problems of the same type.\n",
        "\n",
        "Once the problem reaches a \"basic case\", then a \"basic solution\" is returned.\n",
        "\n",
        "An algorithm can be defined recursive if it has (at least) one basic case and (at least) one recursive step."
      ],
      "metadata": {
        "id": "GwmcRnvh1y9y"
      }
    },
    {
      "cell_type": "markdown",
      "source": [
        "An example of recursion could be exponentiation. In fact, an exponentiation is a multiplication of a number to itself x times (X being the exponent).\n",
        "For instance 9^3 can be written as 9 * 9 * 9.\n",
        "However, it calso be written as 9 * 9^2, which can then be written as 9 * 9 * 9^1, or also 9 * 9 * 9 * 9^0. 9^0 can be considered as a base case, because every number^0 = 1. So we can say that x^y where y is more than 0 is like saying x * x^(y-1). Writing this is a recursive way:"
      ],
      "metadata": {
        "id": "VgpIy8n76i_J"
      }
    },
    {
      "cell_type": "code",
      "source": [
        "def exponentiation(x, y):\n",
        "    if y == 0: # Base case\n",
        "        return 1 # Base solution\n",
        "    else:\n",
        "        return x * exponentiation(x, y-1) # recursive step\n",
        "\n",
        "exponentiation(9,4) == 9**4 # there is a built in way in python for\n",
        "# exponentiation"
      ],
      "metadata": {
        "id": "MC5cmPEC8DbD"
      },
      "execution_count": null,
      "outputs": []
    },
    {
      "cell_type": "markdown",
      "source": [
        "## Flashback to week 1 exercise\n",
        "\n",
        "\n",
        "\n",
        "```python\n",
        "def text_to_tuples(sentence, integer):\n",
        "    result = []\n",
        "    words = sentence.split()\n",
        "    number_of_divisions = len(words)//integer\n",
        "    if len(words) % integer != 0:\n",
        "        number_of_divisions += 1\n",
        "    words.reverse()\n",
        "    for i in range(number_of_divisions):\n",
        "        temp_list = []\n",
        "        for i in range(integer):\n",
        "            if len(words) != 0:\n",
        "                temp_list.append(words.pop())\n",
        "        result.append(tuple(temp_list))\n",
        "    return result\n",
        "\n",
        "\n",
        "text_to_tuples(\"Hi My Life Is So Great After Programming\", 3)\n",
        "```\n",
        "\n",
        "Can you try to rewrite this algorithm using recursion?\n",
        "\n",
        "What is the base case?\n",
        "<details><summary>Hint</summary>\n",
        "(you still have to make the word list) If the length of the word list is less or equal to the integer</details>\n",
        "What is the base solution?\n",
        "<details><summary>Hint2</summary>\n",
        "Returning a list in which there is a tuple version of the word list</details>\n",
        "What is the recursive step?\n",
        "<details><summary>Hint3</summary>\n",
        "Creating a list where you put a tuple of the words list until the index of the integer. Recreating the sentence string starting from the integer index in the word list. Extending the created list with the calling of the function for the recreated sentence</details>"
      ],
      "metadata": {
        "id": "RR4nTdvK8ejI"
      }
    },
    {
      "cell_type": "markdown",
      "source": [
        "<details><summary>Full Solution</summary>\n",
        "<pre><code>\n",
        "def text_to_tuple_r(sentence, integer):\n",
        "    words = sentence.split()\n",
        "    if len(words) <= integer:\n",
        "        result = [tuple(words)]\n",
        "        return result\n",
        "    result = [tuple(words[:integer])]\n",
        "    new_sentence = \" \".join(words[integer:])\n",
        "    result.extend(text_to_tuple_r(new_sentence, integer))\n",
        "    return result\n",
        "\n",
        "print(text_to_tuple_r(\"Hi My Name Is Bruno\", 2))\n",
        "</pre></code>\n",
        "</details>"
      ],
      "metadata": {
        "id": "yasivMkT9TSR"
      }
    },
    {
      "cell_type": "code",
      "source": [],
      "metadata": {
        "id": "TL_oO2Pe9Ev1"
      },
      "execution_count": null,
      "outputs": []
    },
    {
      "cell_type": "markdown",
      "source": [
        "## Divide and conquer algorithms\n",
        "\n",
        "It is a methodology of algorithms that involves 4 main steps.\n",
        "\n",
        "1. [base case] address the problem directly on the input material if it is depicting an\n",
        "easy-to-solve problem; otherwise\n",
        "2. [divide] split the input material into two or more balanced parts, each representing a\n",
        "sub-problem of the original one;\n",
        "3. [conquer] run the same algorithm recursively for every balanced part obtained in the\n",
        "previous step;\n",
        "4. [combine] reconstruct the final solution of the problem using the partial solutions\n",
        "obtained from running the algorithms on the smaller parts of the input material.\n"
      ],
      "metadata": {
        "id": "jxqbtk72_M5D"
      }
    },
    {
      "cell_type": "markdown",
      "source": [
        "### Fibonacci Sequence\n",
        "\n",
        "The Fibonacci sequence was introduced by Leonardo da Pisa (or Fibonacci).\n",
        "\n",
        "It is a in infinite sequence of numbers. To find a number in a specific position in the fibonacci sequence (for instance fib(4)) you can follow three main rules.\n",
        "\n",
        "fib(0) always equals 0\n",
        "\n",
        "fib(1) always equals 1\n",
        "\n",
        "fib(n) where n is a positive number and it is neither 1 or 0 always equals (fib(n-2) + (fib(n-1))\n",
        "\n",
        "As to say, in the fibonacci sequence, one number is always equal to the sum of the two previous numbers in the sequence.\n",
        "\n",
        "0,1,1,2,3,5,8,13...\n",
        "\n",
        "Let's apply the divide and conquer to calculate Fibonacci"
      ],
      "metadata": {
        "id": "SAmY9-cm_syn"
      }
    },
    {
      "cell_type": "code",
      "source": [
        "def fib(n):\n",
        "    if n == 0: #base case 1\n",
        "        return 0 #base solution 1\n",
        "    elif n == 1: #base case 2\n",
        "        return 1 #base solution 2\n",
        "    else:\n",
        "        return fib(n-2) + fib(n-1) # divide and conquer recursive step"
      ],
      "metadata": {
        "id": "ZdRydYNKBRzI"
      },
      "execution_count": null,
      "outputs": []
    },
    {
      "cell_type": "markdown",
      "source": [
        "However we can notice this\n",
        "![fib1.png](data:image/png;base64,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)"
      ],
      "metadata": {
        "id": "9liFLakoBm8V"
      }
    },
    {
      "cell_type": "code",
      "source": [],
      "metadata": {
        "id": "LBmdGFw0_PoO"
      },
      "execution_count": null,
      "outputs": []
    },
    {
      "cell_type": "markdown",
      "source": [
        "![fibproblem.png](data:image/png;base64,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)"
      ],
      "metadata": {
        "id": "76s6EcykDRMW"
      }
    },
    {
      "cell_type": "code",
      "source": [],
      "metadata": {
        "id": "5miuJEKWDSUG"
      },
      "execution_count": null,
      "outputs": []
    },
    {
      "cell_type": "markdown",
      "source": [
        "Meaning that some steps are repeated many times in the recursion, and this could be avoided"
      ],
      "metadata": {
        "id": "0PQAmgQpDTLx"
      }
    },
    {
      "cell_type": "markdown",
      "source": [
        "## Dynamic Programming\n",
        "\n",
        "It is a more advanced version of divide and conquer which adds two steps\n",
        "\n",
        "1. **[base case: solution exists] return the solution calculated previously to the problem if\n",
        "this is the case; otherwise**\n",
        "2. [base case: address directly] address the problem directly on the input material if it is\n",
        "depicting an easy-to-solve problem; otherwise\n",
        "3. [divide] split the input material into two or more balanced parts, each representing a\n",
        "sub-problem of the original one;\n",
        "4. [conquer] run the same algorithm recursively for every balanced part obtained in the\n",
        "previous step;\n",
        "5. [combine] reconstruct the final solution of the problem using the partial solutions\n",
        "obtained from running the algorithms on the smaller parts of the input material;\n",
        "6. **[memorise] store the solution to the problem to reuse if needed by other recursive calls.**\n",
        "\n",
        "Basically, we can store intermediate solutions to the problems, so if we run into the same problem again, we do not have to recalculate it, but we can just retrieve the solution\n"
      ],
      "metadata": {
        "id": "lcnCHBAcDYbY"
      }
    },
    {
      "cell_type": "code",
      "source": [
        "def fibonacci_dynamic(n, memo={}):\n",
        "    if n in memo: #base case: solution exists\n",
        "        return memo[n]\n",
        "    elif n == 0: # base case: address directly\n",
        "        memo[n] = 0\n",
        "    elif n == 1: # base case: address directly\n",
        "        memo[n] = 1\n",
        "    else: # divide, conquer, combine, and store\n",
        "        memo[n] = fibonacci_dynamic(n-1, memo) + fibonacci_dynamic(n-2, memo)\n",
        "    return memo[n]\n",
        "\n",
        "fibonacci_dynamic(10)"
      ],
      "metadata": {
        "id": "aUohSoT-Dz2G"
      },
      "execution_count": null,
      "outputs": []
    },
    {
      "cell_type": "markdown",
      "source": [
        "## APIs\n",
        "\n",
        "An **API** (Application Programming Interface) allows different software systems to communicate with each other.\n",
        "\n",
        "In the context of the web, APIs allow you to **programmatically interact** with data and services over HTTP. For example, you can use an API to get weather data, fetch cultural heritage information, or post content to social media — all from Python code.\n",
        "\n",
        "Most modern APIs use **JSON** (JavaScript Object Notation) to encode their data."
      ],
      "metadata": {
        "id": "6BN8I8X5N-I8"
      }
    },
    {
      "cell_type": "markdown",
      "source": [
        "### Requests library to interact with APIs via Python\n",
        "\n",
        "Python's [`requests`](https://docs.python-requests.org/en/latest/) library is used to send HTTP requests to web servers, so it works well with web APIs.\n",
        "\n",
        "With `requests`, you can:\n",
        "- Send different types of HTTP requests like `GET`, `POST`\n",
        "- Include headers and data in your requests\n",
        "- Handle and decode responses easily (e.g., `.json()` to parse JSON)\n",
        "\n",
        "What is the difference between GET and POST?\n",
        "\n",
        "| Method | Purpose |\n",
        "|--------|---------|\n",
        "| `GET`  | Retrieve data (read-only operations, like search queries) |\n",
        "| `POST` | Send data to the server (e.g., for complex queries or uploading data) |"
      ],
      "metadata": {
        "id": "tqpv9hpCOUpI"
      }
    },
    {
      "cell_type": "markdown",
      "source": [
        "### Common Parameters of `requests`\n",
        "\n",
        "#### `requests.get(url, params=None, headers=None)`\n",
        "- `url`: API endpoint (e.g., `\"https://api.artic.edu/api/v1/artworks\"`)\n",
        "- `params`: dictionary of query parameters (appended to the URL as `?key=value`)\n",
        "- `headers`: dictionary of headers (e.g., authentication tokens or content type)\n",
        "\n",
        "#### `requests.post(url, data=None, json=None, headers=None)`\n",
        "- `data`: raw body data (usually for form-encoded or plain text)\n",
        "- `json`: Python dict automatically encoded as JSON (preferred for APIs)\n",
        "- `headers`: HTTP headers like `\"Content-Type\": \"application/json\"`"
      ],
      "metadata": {
        "id": "7WJdkbqYOo0I"
      }
    },
    {
      "cell_type": "markdown",
      "source": [
        "### Art institute of Chicago API\n",
        "\n",
        "Docs: https://api.artic.edu/docs/#quick-start"
      ],
      "metadata": {
        "id": "WVeemKbIO16U"
      }
    },
    {
      "cell_type": "code",
      "source": [
        "import requests\n",
        "\n",
        "response = requests.get(\"https://api.artic.edu/api/v1/artworks/129884\")\n",
        "#very simple get request\n",
        "data = response.json() #turn to json\n",
        "print(data) #print it\n",
        "print(data[\"data\"][\"artist_id\"]) # access one field of the data"
      ],
      "metadata": {
        "id": "5J69BWt2O7Lp"
      },
      "execution_count": null,
      "outputs": []
    },
    {
      "cell_type": "code",
      "source": [
        "import requests\n",
        "import json\n",
        "\n",
        "url = \"https://api.artic.edu/api/v1/artworks/search\"\n",
        "headers = {\"Content-Type\": \"application/json\"}\n",
        "\n",
        "para = {\n",
        "    \"q\": \"cats\", # general text query for cats\n",
        "    \"query\": {\n",
        "        \"term\": {\n",
        "            \"is_public_domain\": True #filtering for public domain\n",
        "        }\n",
        "    }, \"fields\": [\"id\", \"title\", \"artist_display\", \"description\", \"image_id\"] #retrieve\n",
        "    #only specific fields\n",
        "    , \"limit\": 20 # number of results you want to get\n",
        "}\n",
        "\n",
        "response = requests.post(url, headers=headers, data=json.dumps(para))\n",
        "result = response.json()\n",
        "\n",
        "# Show how many results and print first artwork title\n",
        "print(f\"Found {len(result['data'])} results.\")\n",
        "if result['data']:\n",
        "    print(\"First artwork title:\", result['data'][0]['title'])\n"
      ],
      "metadata": {
        "id": "QlaDN-X2E7l5"
      },
      "execution_count": null,
      "outputs": []
    },
    {
      "cell_type": "code",
      "source": [
        "# Look at the images\n",
        "from IPython.display import Image, display\n",
        "\n",
        "base_url = \"https://www.artic.edu/iiif/2/\"\n",
        "image_id = result[\"data\"][0].get(\"image_id\")\n",
        "if image_id:\n",
        "    thumbnail_url = f\"{base_url}{image_id}/full/843,/0/default.jpg\"\n",
        "    display(Image(url=thumbnail_url))"
      ],
      "metadata": {
        "id": "fnTVknYMJL9r"
      },
      "execution_count": null,
      "outputs": []
    },
    {
      "cell_type": "code",
      "source": [
        "# If I want to save the image\n",
        "\n",
        "# Send a GET request to download the image\n",
        "response = requests.get(thumbnail_url)\n",
        "\n",
        "# Save it to a file (in current working directory)\n",
        "output_path = f\"{image_id}.jpg\"\n",
        "with open(output_path, \"wb\") as f:\n",
        "    f.write(response.content)"
      ],
      "metadata": {
        "id": "1IqYNz4-SDjo"
      },
      "execution_count": null,
      "outputs": []
    },
    {
      "cell_type": "code",
      "source": [
        "# More complex queries\n",
        "url = \"https://api.artic.edu/api/v1/artworks/search\"\n",
        "headers = {\"Content-Type\": \"application/json\"}\n",
        "\n",
        "payload = {\n",
        "    \"query\": {\n",
        "        \"bool\": {\n",
        "            \"must\": [\n",
        "                {\"match\": {\"description\": \"cat\"}} # In the field description\n",
        "                # there must be the word cat\n",
        "            ],\n",
        "            \"filter\": [\n",
        "                {\"term\": {\"is_public_domain\": True}}\n",
        "            ]\n",
        "        }\n",
        "    }, \"fields\" : [\"id\", \"title\", \"artist_display\",\n",
        "                   \"description\", \"artist_id\"]\n",
        "}\n",
        "\n",
        "response = requests.post(url, headers=headers, json=payload)\n",
        "result = response.json()\n",
        "\n",
        "print(f\"Found {len(result['data'])} artworks.\")\n",
        "if result[\"data\"]:\n",
        "    print(\"First artwork title:\", result[\"data\"][0][\"title\"])\n"
      ],
      "metadata": {
        "id": "u0oTW_5iJS0U"
      },
      "execution_count": null,
      "outputs": []
    },
    {
      "cell_type": "markdown",
      "source": [
        "### Dynamic Programming for API Caching\n",
        "Imagine you have a function that queries the AIC API for artworks with a specific keyword, and you want to use it repeatedly for a long list of keywords — some of which repeat.\n",
        "\n",
        "**Naive Approach**\n",
        "You would query the API every time, even for repeated keywords — wasting time and bandwidth.\n",
        "\n",
        "**Dynamic Programming Approach**\n",
        "Use memorization (step 6 of DP) to store previous results and reuse them when the same query happens again.\n",
        "\n",
        "**Note that the Art Institute of Chicago API actually suggests to use API caching to avoid too many requests**"
      ],
      "metadata": {
        "id": "pcyzwevdS1xm"
      }
    },
    {
      "cell_type": "code",
      "source": [
        "import requests\n",
        "\n",
        "# Memorization dictionary\n",
        "cache = {}\n",
        "\n",
        "def search_artworks(keyword):\n",
        "    # Step 1: Check memorized result\n",
        "    if keyword in cache:\n",
        "        print(f\"Using cached result for '{keyword}'\")\n",
        "        return cache[keyword]\n",
        "\n",
        "    # Step 2: Easy base case (skip empty keywords)\n",
        "    if not keyword.strip():\n",
        "        return []\n",
        "\n",
        "    # Step 3 & 4: Perform API search (simulate divide + conquer)\n",
        "    url = \"https://api.artic.edu/api/v1/artworks/search\"\n",
        "    headers = {\"Content-Type\": \"application/json\"}\n",
        "    payload = {\n",
        "        \"q\": keyword,\n",
        "        \"query\": {\n",
        "            \"term\": {\n",
        "                \"is_public_domain\": True\n",
        "            }\n",
        "        }, \"fields\": [\"title\"]\n",
        "    }\n",
        "\n",
        "    response = requests.post(url, headers=headers, json=payload)\n",
        "    result = response.json()\n",
        "\n",
        "    # Step 5: Combine (just return relevant data here)\n",
        "    artworks = [item[\"title\"] for item in result.get(\"data\")]\n",
        "\n",
        "    # Step 6: Memorize\n",
        "    cache[keyword] = artworks\n",
        "    return artworks\n"
      ],
      "metadata": {
        "id": "ZeP0pROwTdIV"
      },
      "execution_count": null,
      "outputs": []
    },
    {
      "cell_type": "code",
      "source": [
        "list_of_keywords = [\"cat\",\"dog\", \"serpent\", \"cat\"]\n",
        "for el in list_of_keywords:\n",
        "    search_artworks(el)"
      ],
      "metadata": {
        "id": "bFwFmiXpT0MB"
      },
      "execution_count": null,
      "outputs": []
    },
    {
      "cell_type": "code",
      "source": [
        "cache"
      ],
      "metadata": {
        "id": "mLY42xJfUHby"
      },
      "execution_count": null,
      "outputs": []
    },
    {
      "cell_type": "code",
      "source": [
        "# Pre exercise\n",
        "import requests\n",
        "# You can also use the api to get data about artists\n",
        "response = requests.get(\"https://api.artic.edu/api/v1/artists/111835\")\n",
        "data = response.json()\n",
        "print(data)"
      ],
      "metadata": {
        "id": "xLn4Jj6SKoG7"
      },
      "execution_count": null,
      "outputs": []
    },
    {
      "cell_type": "code",
      "source": [
        "\n"
      ],
      "metadata": {
        "id": "JbmVPrvDLEEp"
      },
      "execution_count": null,
      "outputs": []
    },
    {
      "cell_type": "markdown",
      "source": [
        "### Exercise\n",
        "\n",
        "Create a function get_artist_bio(description_word, cached) that calls the Art institute of chicago API and looks for artworks that contain the description word in their \"description\" field, retrieves the \"artist_id\" from them and then re-calls the Art institute of Chicago API with every \"artist_id\" found to extract from the artist API their \"title\", \"birth date\", \"death date\", and \"description\". You save the results of the artist query in cached so that if an artist is found twice you do not have to run the query twice. Return cached at the end to get the data about every artist. Whenever you are using the cached version, print a message that you are doing so.\n",
        "\n",
        "Test the function to search for \"Van Gogh\" in the description"
      ],
      "metadata": {
        "id": "x9QmpX5mU0Oa"
      }
    },
    {
      "cell_type": "code",
      "source": [],
      "metadata": {
        "id": "YN7fZBofUpfU"
      },
      "execution_count": null,
      "outputs": []
    }
  ]
}